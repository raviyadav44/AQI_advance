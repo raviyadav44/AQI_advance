{
  "nbformat": 4,
  "nbformat_minor": 0,
  "metadata": {
    "colab": {
      "name": "aqi_prog.ipynb",
      "provenance": [],
      "collapsed_sections": []
    },
    "kernelspec": {
      "name": "python3",
      "display_name": "Python 3"
    }
  },
  "cells": [
    {
      "cell_type": "code",
      "metadata": {
        "id": "F0ToSiYfLzP4"
      },
      "source": [
        "import pandas as pd\n",
        "import numpy as np\n",
        "from matplotlib import pyplot as plt\n",
        "import pickle\n",
        "df=pd.read_excel('/content/drive/MyDrive/aqi/air_quality.xlsx',header=1)"
      ],
      "execution_count": 449,
      "outputs": []
    },
    {
      "cell_type": "code",
      "metadata": {
        "id": "VPppJG7RL7sa",
        "colab": {
          "base_uri": "https://localhost:8080/",
          "height": 195
        },
        "outputId": "6bfc1f23-934d-4aba-85ea-d500cb92ab43"
      },
      "source": [
        "df.head()"
      ],
      "execution_count": 450,
      "outputs": [
        {
          "output_type": "execute_result",
          "data": {
            "text/html": [
              "<div>\n",
              "<style scoped>\n",
              "    .dataframe tbody tr th:only-of-type {\n",
              "        vertical-align: middle;\n",
              "    }\n",
              "\n",
              "    .dataframe tbody tr th {\n",
              "        vertical-align: top;\n",
              "    }\n",
              "\n",
              "    .dataframe thead th {\n",
              "        text-align: right;\n",
              "    }\n",
              "</style>\n",
              "<table border=\"1\" class=\"dataframe\">\n",
              "  <thead>\n",
              "    <tr style=\"text-align: right;\">\n",
              "      <th></th>\n",
              "      <th>Sr No.</th>\n",
              "      <th>Name of Station</th>\n",
              "      <th>Date</th>\n",
              "      <th>NO</th>\n",
              "      <th>NO2</th>\n",
              "      <th>NOx</th>\n",
              "      <th>NH3</th>\n",
              "      <th>SO2</th>\n",
              "      <th>CO</th>\n",
              "      <th>O3</th>\n",
              "      <th>PM2.5</th>\n",
              "      <th>PM10</th>\n",
              "      <th>Air Quality</th>\n",
              "      <th>AQI</th>\n",
              "    </tr>\n",
              "  </thead>\n",
              "  <tbody>\n",
              "    <tr>\n",
              "      <th>0</th>\n",
              "      <td>1</td>\n",
              "      <td>Ambala</td>\n",
              "      <td>01.01.2020</td>\n",
              "      <td>55.04</td>\n",
              "      <td>87.10</td>\n",
              "      <td>89.64</td>\n",
              "      <td>33.72</td>\n",
              "      <td>18.04</td>\n",
              "      <td>1.39</td>\n",
              "      <td>34.60</td>\n",
              "      <td>113.33</td>\n",
              "      <td>215.96</td>\n",
              "      <td>Poor</td>\n",
              "      <td>269</td>\n",
              "    </tr>\n",
              "    <tr>\n",
              "      <th>1</th>\n",
              "      <td>2</td>\n",
              "      <td>Bahadurgarh</td>\n",
              "      <td>01.01.2020</td>\n",
              "      <td>55.13</td>\n",
              "      <td>98.94</td>\n",
              "      <td>92.99</td>\n",
              "      <td>54.68</td>\n",
              "      <td>17.04</td>\n",
              "      <td>2.51</td>\n",
              "      <td>22.08</td>\n",
              "      <td>162.97</td>\n",
              "      <td>222.29</td>\n",
              "      <td>Very Poor</td>\n",
              "      <td>334</td>\n",
              "    </tr>\n",
              "    <tr>\n",
              "      <th>2</th>\n",
              "      <td>3</td>\n",
              "      <td>Ballabgarh</td>\n",
              "      <td>01.01.2020</td>\n",
              "      <td>39.19</td>\n",
              "      <td>99.80</td>\n",
              "      <td>90.53</td>\n",
              "      <td>58.27</td>\n",
              "      <td>3.32</td>\n",
              "      <td>3.35</td>\n",
              "      <td>4.77</td>\n",
              "      <td>242.98</td>\n",
              "      <td>402.69</td>\n",
              "      <td>Very Poor</td>\n",
              "      <td>397</td>\n",
              "    </tr>\n",
              "    <tr>\n",
              "      <th>3</th>\n",
              "      <td>4</td>\n",
              "      <td>Bhiwani</td>\n",
              "      <td>01.01.2020</td>\n",
              "      <td>4.42</td>\n",
              "      <td>36.47</td>\n",
              "      <td>22.27</td>\n",
              "      <td>12.09</td>\n",
              "      <td>24.38</td>\n",
              "      <td>1.26</td>\n",
              "      <td>69.59</td>\n",
              "      <td>161.53</td>\n",
              "      <td>199.28</td>\n",
              "      <td>Very Poor</td>\n",
              "      <td>349</td>\n",
              "    </tr>\n",
              "    <tr>\n",
              "      <th>4</th>\n",
              "      <td>5</td>\n",
              "      <td>Dharuhera</td>\n",
              "      <td>01.01.2020</td>\n",
              "      <td>83.68</td>\n",
              "      <td>73.10</td>\n",
              "      <td>105.29</td>\n",
              "      <td>46.34</td>\n",
              "      <td>19.64</td>\n",
              "      <td>3.27</td>\n",
              "      <td>21.13</td>\n",
              "      <td>107.29</td>\n",
              "      <td>390.84</td>\n",
              "      <td>Very Poor</td>\n",
              "      <td>329</td>\n",
              "    </tr>\n",
              "  </tbody>\n",
              "</table>\n",
              "</div>"
            ],
            "text/plain": [
              "   Sr No. Name of Station        Date     NO  ...   PM2.5    PM10  Air Quality  AQI\n",
              "0       1          Ambala  01.01.2020  55.04  ...  113.33  215.96         Poor  269\n",
              "1       2     Bahadurgarh  01.01.2020  55.13  ...  162.97  222.29    Very Poor  334\n",
              "2       3      Ballabgarh  01.01.2020  39.19  ...  242.98  402.69    Very Poor  397\n",
              "3       4         Bhiwani  01.01.2020   4.42  ...  161.53  199.28    Very Poor  349\n",
              "4       5       Dharuhera  01.01.2020  83.68  ...  107.29  390.84    Very Poor  329\n",
              "\n",
              "[5 rows x 14 columns]"
            ]
          },
          "metadata": {
            "tags": []
          },
          "execution_count": 450
        }
      ]
    },
    {
      "cell_type": "code",
      "metadata": {
        "colab": {
          "base_uri": "https://localhost:8080/"
        },
        "id": "ZTSMsUBsGnGD",
        "outputId": "f8ef7cde-b73c-4f99-966a-bdc4dc8df868"
      },
      "source": [
        "from google.colab import drive\n",
        "drive.mount('/content/drive')"
      ],
      "execution_count": 451,
      "outputs": [
        {
          "output_type": "stream",
          "text": [
            "Drive already mounted at /content/drive; to attempt to forcibly remount, call drive.mount(\"/content/drive\", force_remount=True).\n"
          ],
          "name": "stdout"
        }
      ]
    },
    {
      "cell_type": "markdown",
      "metadata": {
        "id": "eGxEXHumOLiL"
      },
      "source": [
        "#DATA PREPROCESSING"
      ]
    },
    {
      "cell_type": "code",
      "metadata": {
        "id": "P7zOE9ZIL7pU"
      },
      "source": [
        "df['Date']=pd.to_datetime(df['Date'])"
      ],
      "execution_count": 452,
      "outputs": []
    },
    {
      "cell_type": "code",
      "metadata": {
        "id": "IKb6w-jiL7mX"
      },
      "source": [
        "\n",
        "df.drop('Sr No.',axis=1,inplace=True)"
      ],
      "execution_count": 453,
      "outputs": []
    },
    {
      "cell_type": "code",
      "metadata": {
        "id": "ljMAjJTxL7jf",
        "colab": {
          "base_uri": "https://localhost:8080/"
        },
        "outputId": "e198425b-1f3a-4715-b785-9d3d07cc9e71"
      },
      "source": [
        "df.info()"
      ],
      "execution_count": 454,
      "outputs": [
        {
          "output_type": "stream",
          "text": [
            "<class 'pandas.core.frame.DataFrame'>\n",
            "RangeIndex: 2162 entries, 0 to 2161\n",
            "Data columns (total 13 columns):\n",
            " #   Column           Non-Null Count  Dtype         \n",
            "---  ------           --------------  -----         \n",
            " 0   Name of Station  2162 non-null   object        \n",
            " 1   Date             2162 non-null   datetime64[ns]\n",
            " 2   NO               2162 non-null   float64       \n",
            " 3   NO2              2162 non-null   float64       \n",
            " 4   NOx              2162 non-null   float64       \n",
            " 5   NH3              2162 non-null   float64       \n",
            " 6   SO2              2162 non-null   float64       \n",
            " 7   CO               2162 non-null   float64       \n",
            " 8   O3               2162 non-null   float64       \n",
            " 9   PM2.5            2162 non-null   float64       \n",
            " 10  PM10             2162 non-null   float64       \n",
            " 11  Air Quality      2162 non-null   object        \n",
            " 12  AQI              2162 non-null   int64         \n",
            "dtypes: datetime64[ns](1), float64(9), int64(1), object(2)\n",
            "memory usage: 219.7+ KB\n"
          ],
          "name": "stdout"
        }
      ]
    },
    {
      "cell_type": "code",
      "metadata": {
        "id": "y3kuzLZOL7ge",
        "colab": {
          "base_uri": "https://localhost:8080/",
          "height": 402
        },
        "outputId": "a2cc2dcc-9311-45a7-8b96-6fe3ba67ec95"
      },
      "source": [
        "df.dropna()"
      ],
      "execution_count": 455,
      "outputs": [
        {
          "output_type": "execute_result",
          "data": {
            "text/html": [
              "<div>\n",
              "<style scoped>\n",
              "    .dataframe tbody tr th:only-of-type {\n",
              "        vertical-align: middle;\n",
              "    }\n",
              "\n",
              "    .dataframe tbody tr th {\n",
              "        vertical-align: top;\n",
              "    }\n",
              "\n",
              "    .dataframe thead th {\n",
              "        text-align: right;\n",
              "    }\n",
              "</style>\n",
              "<table border=\"1\" class=\"dataframe\">\n",
              "  <thead>\n",
              "    <tr style=\"text-align: right;\">\n",
              "      <th></th>\n",
              "      <th>Name of Station</th>\n",
              "      <th>Date</th>\n",
              "      <th>NO</th>\n",
              "      <th>NO2</th>\n",
              "      <th>NOx</th>\n",
              "      <th>NH3</th>\n",
              "      <th>SO2</th>\n",
              "      <th>CO</th>\n",
              "      <th>O3</th>\n",
              "      <th>PM2.5</th>\n",
              "      <th>PM10</th>\n",
              "      <th>Air Quality</th>\n",
              "      <th>AQI</th>\n",
              "    </tr>\n",
              "  </thead>\n",
              "  <tbody>\n",
              "    <tr>\n",
              "      <th>0</th>\n",
              "      <td>Ambala</td>\n",
              "      <td>2020-01-01</td>\n",
              "      <td>55.04</td>\n",
              "      <td>87.10</td>\n",
              "      <td>89.64</td>\n",
              "      <td>33.72</td>\n",
              "      <td>18.04</td>\n",
              "      <td>1.39</td>\n",
              "      <td>34.60</td>\n",
              "      <td>113.33</td>\n",
              "      <td>215.96</td>\n",
              "      <td>Poor</td>\n",
              "      <td>269</td>\n",
              "    </tr>\n",
              "    <tr>\n",
              "      <th>1</th>\n",
              "      <td>Bahadurgarh</td>\n",
              "      <td>2020-01-01</td>\n",
              "      <td>55.13</td>\n",
              "      <td>98.94</td>\n",
              "      <td>92.99</td>\n",
              "      <td>54.68</td>\n",
              "      <td>17.04</td>\n",
              "      <td>2.51</td>\n",
              "      <td>22.08</td>\n",
              "      <td>162.97</td>\n",
              "      <td>222.29</td>\n",
              "      <td>Very Poor</td>\n",
              "      <td>334</td>\n",
              "    </tr>\n",
              "    <tr>\n",
              "      <th>2</th>\n",
              "      <td>Ballabgarh</td>\n",
              "      <td>2020-01-01</td>\n",
              "      <td>39.19</td>\n",
              "      <td>99.80</td>\n",
              "      <td>90.53</td>\n",
              "      <td>58.27</td>\n",
              "      <td>3.32</td>\n",
              "      <td>3.35</td>\n",
              "      <td>4.77</td>\n",
              "      <td>242.98</td>\n",
              "      <td>402.69</td>\n",
              "      <td>Very Poor</td>\n",
              "      <td>397</td>\n",
              "    </tr>\n",
              "    <tr>\n",
              "      <th>3</th>\n",
              "      <td>Bhiwani</td>\n",
              "      <td>2020-01-01</td>\n",
              "      <td>4.42</td>\n",
              "      <td>36.47</td>\n",
              "      <td>22.27</td>\n",
              "      <td>12.09</td>\n",
              "      <td>24.38</td>\n",
              "      <td>1.26</td>\n",
              "      <td>69.59</td>\n",
              "      <td>161.53</td>\n",
              "      <td>199.28</td>\n",
              "      <td>Very Poor</td>\n",
              "      <td>349</td>\n",
              "    </tr>\n",
              "    <tr>\n",
              "      <th>4</th>\n",
              "      <td>Dharuhera</td>\n",
              "      <td>2020-01-01</td>\n",
              "      <td>83.68</td>\n",
              "      <td>73.10</td>\n",
              "      <td>105.29</td>\n",
              "      <td>46.34</td>\n",
              "      <td>19.64</td>\n",
              "      <td>3.27</td>\n",
              "      <td>21.13</td>\n",
              "      <td>107.29</td>\n",
              "      <td>390.84</td>\n",
              "      <td>Very Poor</td>\n",
              "      <td>329</td>\n",
              "    </tr>\n",
              "    <tr>\n",
              "      <th>...</th>\n",
              "      <td>...</td>\n",
              "      <td>...</td>\n",
              "      <td>...</td>\n",
              "      <td>...</td>\n",
              "      <td>...</td>\n",
              "      <td>...</td>\n",
              "      <td>...</td>\n",
              "      <td>...</td>\n",
              "      <td>...</td>\n",
              "      <td>...</td>\n",
              "      <td>...</td>\n",
              "      <td>...</td>\n",
              "      <td>...</td>\n",
              "    </tr>\n",
              "    <tr>\n",
              "      <th>2157</th>\n",
              "      <td>Panipat</td>\n",
              "      <td>2019-12-31</td>\n",
              "      <td>425.58</td>\n",
              "      <td>79.63</td>\n",
              "      <td>382.88</td>\n",
              "      <td>33.80</td>\n",
              "      <td>30.16</td>\n",
              "      <td>0.18</td>\n",
              "      <td>38.58</td>\n",
              "      <td>172.29</td>\n",
              "      <td>410.87</td>\n",
              "      <td>Very Poor</td>\n",
              "      <td>318</td>\n",
              "    </tr>\n",
              "    <tr>\n",
              "      <th>2158</th>\n",
              "      <td>Rohtak</td>\n",
              "      <td>2019-12-31</td>\n",
              "      <td>0.00</td>\n",
              "      <td>0.00</td>\n",
              "      <td>0.00</td>\n",
              "      <td>0.00</td>\n",
              "      <td>13.18</td>\n",
              "      <td>1.41</td>\n",
              "      <td>34.00</td>\n",
              "      <td>204.08</td>\n",
              "      <td>0.00</td>\n",
              "      <td>Very Poor</td>\n",
              "      <td>374</td>\n",
              "    </tr>\n",
              "    <tr>\n",
              "      <th>2159</th>\n",
              "      <td>Sirsa</td>\n",
              "      <td>2019-12-31</td>\n",
              "      <td>6.46</td>\n",
              "      <td>2.54</td>\n",
              "      <td>4.93</td>\n",
              "      <td>4.09</td>\n",
              "      <td>26.80</td>\n",
              "      <td>1.25</td>\n",
              "      <td>20.17</td>\n",
              "      <td>83.14</td>\n",
              "      <td>183.90</td>\n",
              "      <td>Moderate</td>\n",
              "      <td>136</td>\n",
              "    </tr>\n",
              "    <tr>\n",
              "      <th>2160</th>\n",
              "      <td>Sonipat</td>\n",
              "      <td>2019-12-31</td>\n",
              "      <td>34.06</td>\n",
              "      <td>16.63</td>\n",
              "      <td>3.37</td>\n",
              "      <td>25.31</td>\n",
              "      <td>26.01</td>\n",
              "      <td>2.70</td>\n",
              "      <td>6.97</td>\n",
              "      <td>68.48</td>\n",
              "      <td>342.57</td>\n",
              "      <td>Moderate</td>\n",
              "      <td>153</td>\n",
              "    </tr>\n",
              "    <tr>\n",
              "      <th>2161</th>\n",
              "      <td>Yamuna Nagar</td>\n",
              "      <td>2019-12-31</td>\n",
              "      <td>6.64</td>\n",
              "      <td>13.93</td>\n",
              "      <td>13.41</td>\n",
              "      <td>9.07</td>\n",
              "      <td>0.97</td>\n",
              "      <td>0.65</td>\n",
              "      <td>0.46</td>\n",
              "      <td>84.00</td>\n",
              "      <td>145.20</td>\n",
              "      <td>Poor</td>\n",
              "      <td>296</td>\n",
              "    </tr>\n",
              "  </tbody>\n",
              "</table>\n",
              "<p>2162 rows × 13 columns</p>\n",
              "</div>"
            ],
            "text/plain": [
              "     Name of Station       Date      NO    NO2  ...   PM2.5    PM10  Air Quality  AQI\n",
              "0             Ambala 2020-01-01   55.04  87.10  ...  113.33  215.96         Poor  269\n",
              "1        Bahadurgarh 2020-01-01   55.13  98.94  ...  162.97  222.29    Very Poor  334\n",
              "2         Ballabgarh 2020-01-01   39.19  99.80  ...  242.98  402.69    Very Poor  397\n",
              "3            Bhiwani 2020-01-01    4.42  36.47  ...  161.53  199.28    Very Poor  349\n",
              "4          Dharuhera 2020-01-01   83.68  73.10  ...  107.29  390.84    Very Poor  329\n",
              "...              ...        ...     ...    ...  ...     ...     ...          ...  ...\n",
              "2157         Panipat 2019-12-31  425.58  79.63  ...  172.29  410.87    Very Poor  318\n",
              "2158          Rohtak 2019-12-31    0.00   0.00  ...  204.08    0.00    Very Poor  374\n",
              "2159           Sirsa 2019-12-31    6.46   2.54  ...   83.14  183.90     Moderate  136\n",
              "2160         Sonipat 2019-12-31   34.06  16.63  ...   68.48  342.57     Moderate  153\n",
              "2161    Yamuna Nagar 2019-12-31    6.64  13.93  ...   84.00  145.20         Poor  296\n",
              "\n",
              "[2162 rows x 13 columns]"
            ]
          },
          "metadata": {
            "tags": []
          },
          "execution_count": 455
        }
      ]
    },
    {
      "cell_type": "code",
      "metadata": {
        "id": "nZIbyMsYL7dC"
      },
      "source": [
        "df.drop(['Name of Station','Date'],axis=1,inplace=True)"
      ],
      "execution_count": 456,
      "outputs": []
    },
    {
      "cell_type": "code",
      "metadata": {
        "id": "rldiBYYFL7ZZ",
        "colab": {
          "base_uri": "https://localhost:8080/",
          "height": 195
        },
        "outputId": "c83e5858-bdc1-479c-e549-1c9a06e39c5b"
      },
      "source": [
        "df.head()"
      ],
      "execution_count": 457,
      "outputs": [
        {
          "output_type": "execute_result",
          "data": {
            "text/html": [
              "<div>\n",
              "<style scoped>\n",
              "    .dataframe tbody tr th:only-of-type {\n",
              "        vertical-align: middle;\n",
              "    }\n",
              "\n",
              "    .dataframe tbody tr th {\n",
              "        vertical-align: top;\n",
              "    }\n",
              "\n",
              "    .dataframe thead th {\n",
              "        text-align: right;\n",
              "    }\n",
              "</style>\n",
              "<table border=\"1\" class=\"dataframe\">\n",
              "  <thead>\n",
              "    <tr style=\"text-align: right;\">\n",
              "      <th></th>\n",
              "      <th>NO</th>\n",
              "      <th>NO2</th>\n",
              "      <th>NOx</th>\n",
              "      <th>NH3</th>\n",
              "      <th>SO2</th>\n",
              "      <th>CO</th>\n",
              "      <th>O3</th>\n",
              "      <th>PM2.5</th>\n",
              "      <th>PM10</th>\n",
              "      <th>Air Quality</th>\n",
              "      <th>AQI</th>\n",
              "    </tr>\n",
              "  </thead>\n",
              "  <tbody>\n",
              "    <tr>\n",
              "      <th>0</th>\n",
              "      <td>55.04</td>\n",
              "      <td>87.10</td>\n",
              "      <td>89.64</td>\n",
              "      <td>33.72</td>\n",
              "      <td>18.04</td>\n",
              "      <td>1.39</td>\n",
              "      <td>34.60</td>\n",
              "      <td>113.33</td>\n",
              "      <td>215.96</td>\n",
              "      <td>Poor</td>\n",
              "      <td>269</td>\n",
              "    </tr>\n",
              "    <tr>\n",
              "      <th>1</th>\n",
              "      <td>55.13</td>\n",
              "      <td>98.94</td>\n",
              "      <td>92.99</td>\n",
              "      <td>54.68</td>\n",
              "      <td>17.04</td>\n",
              "      <td>2.51</td>\n",
              "      <td>22.08</td>\n",
              "      <td>162.97</td>\n",
              "      <td>222.29</td>\n",
              "      <td>Very Poor</td>\n",
              "      <td>334</td>\n",
              "    </tr>\n",
              "    <tr>\n",
              "      <th>2</th>\n",
              "      <td>39.19</td>\n",
              "      <td>99.80</td>\n",
              "      <td>90.53</td>\n",
              "      <td>58.27</td>\n",
              "      <td>3.32</td>\n",
              "      <td>3.35</td>\n",
              "      <td>4.77</td>\n",
              "      <td>242.98</td>\n",
              "      <td>402.69</td>\n",
              "      <td>Very Poor</td>\n",
              "      <td>397</td>\n",
              "    </tr>\n",
              "    <tr>\n",
              "      <th>3</th>\n",
              "      <td>4.42</td>\n",
              "      <td>36.47</td>\n",
              "      <td>22.27</td>\n",
              "      <td>12.09</td>\n",
              "      <td>24.38</td>\n",
              "      <td>1.26</td>\n",
              "      <td>69.59</td>\n",
              "      <td>161.53</td>\n",
              "      <td>199.28</td>\n",
              "      <td>Very Poor</td>\n",
              "      <td>349</td>\n",
              "    </tr>\n",
              "    <tr>\n",
              "      <th>4</th>\n",
              "      <td>83.68</td>\n",
              "      <td>73.10</td>\n",
              "      <td>105.29</td>\n",
              "      <td>46.34</td>\n",
              "      <td>19.64</td>\n",
              "      <td>3.27</td>\n",
              "      <td>21.13</td>\n",
              "      <td>107.29</td>\n",
              "      <td>390.84</td>\n",
              "      <td>Very Poor</td>\n",
              "      <td>329</td>\n",
              "    </tr>\n",
              "  </tbody>\n",
              "</table>\n",
              "</div>"
            ],
            "text/plain": [
              "      NO    NO2     NOx    NH3    SO2  ...     O3   PM2.5    PM10  Air Quality  AQI\n",
              "0  55.04  87.10   89.64  33.72  18.04  ...  34.60  113.33  215.96         Poor  269\n",
              "1  55.13  98.94   92.99  54.68  17.04  ...  22.08  162.97  222.29    Very Poor  334\n",
              "2  39.19  99.80   90.53  58.27   3.32  ...   4.77  242.98  402.69    Very Poor  397\n",
              "3   4.42  36.47   22.27  12.09  24.38  ...  69.59  161.53  199.28    Very Poor  349\n",
              "4  83.68  73.10  105.29  46.34  19.64  ...  21.13  107.29  390.84    Very Poor  329\n",
              "\n",
              "[5 rows x 11 columns]"
            ]
          },
          "metadata": {
            "tags": []
          },
          "execution_count": 457
        }
      ]
    },
    {
      "cell_type": "code",
      "metadata": {
        "id": "gslJZfu6MNB2",
        "colab": {
          "base_uri": "https://localhost:8080/"
        },
        "outputId": "05c45272-bed2-4b92-ccbc-c7797a44aa92"
      },
      "source": [
        "df['Air Quality'].nunique()"
      ],
      "execution_count": 458,
      "outputs": [
        {
          "output_type": "execute_result",
          "data": {
            "text/plain": [
              "11"
            ]
          },
          "metadata": {
            "tags": []
          },
          "execution_count": 458
        }
      ]
    },
    {
      "cell_type": "code",
      "metadata": {
        "id": "6tq7OHO_MM77",
        "colab": {
          "base_uri": "https://localhost:8080/"
        },
        "outputId": "201660fb-0456-47a6-d6c3-4631f8f82702"
      },
      "source": [
        "df['Air Quality'].unique()"
      ],
      "execution_count": 459,
      "outputs": [
        {
          "output_type": "execute_result",
          "data": {
            "text/plain": [
              "array(['Poor', 'Very Poor', 'Severe', 'Moderate', '#', 'Satisfactory',\n",
              "       'Good', '$', 'Not-Obtained', 'poor', 'Satisfactory '], dtype=object)"
            ]
          },
          "metadata": {
            "tags": []
          },
          "execution_count": 459
        }
      ]
    },
    {
      "cell_type": "code",
      "metadata": {
        "id": "LVOqaCLGMM4-",
        "colab": {
          "base_uri": "https://localhost:8080/"
        },
        "outputId": "6611bc01-1eb4-4131-d7cd-5702a85f859d"
      },
      "source": [
        "\n",
        "((df['Air Quality']==\"#\") |(df['Air Quality']==\"$\") | (df['Air Quality']==\"Not-Obtained\")).sum()"
      ],
      "execution_count": 460,
      "outputs": [
        {
          "output_type": "execute_result",
          "data": {
            "text/plain": [
              "121"
            ]
          },
          "metadata": {
            "tags": []
          },
          "execution_count": 460
        }
      ]
    },
    {
      "cell_type": "code",
      "metadata": {
        "id": "GNda2QlkGkbh"
      },
      "source": [
        "#df.to_csv(\"/content/drive/MyDrive/aqi/air_quality_cleaned.xlsx\",index=False)"
      ],
      "execution_count": 461,
      "outputs": []
    },
    {
      "cell_type": "markdown",
      "metadata": {
        "id": "nUz73R1zORgp"
      },
      "source": [
        "#DATA VISUALISATION"
      ]
    },
    {
      "cell_type": "code",
      "metadata": {
        "id": "ZMbncYeKMM1l",
        "colab": {
          "base_uri": "https://localhost:8080/",
          "height": 307
        },
        "outputId": "47b8cf18-e9cf-4e79-c1b6-a0d4a6549a83"
      },
      "source": [
        "import seaborn as sns\n",
        "x=df.corr()\n",
        "sns.heatmap(x,annot=True)"
      ],
      "execution_count": 462,
      "outputs": [
        {
          "output_type": "execute_result",
          "data": {
            "text/plain": [
              "<matplotlib.axes._subplots.AxesSubplot at 0x7fd47e254550>"
            ]
          },
          "metadata": {
            "tags": []
          },
          "execution_count": 462
        },
        {
          "output_type": "display_data",
          "data": {
            "image/png": "[encoded data removed]",
            "text/plain": [
              "<Figure size 432x288 with 2 Axes>"
            ]
          },
          "metadata": {
            "tags": [],
            "needs_background": "light"
          }
        }
      ]
    },
    {
      "cell_type": "markdown",
      "metadata": {
        "id": "03txXbtS-qeJ"
      },
      "source": [
        " THE PM2.5 HAS THE HIGHEST CORRELATION \n"
      ]
    },
    {
      "cell_type": "code",
      "metadata": {
        "id": "-i9UqgcSPc39",
        "colab": {
          "base_uri": "https://localhost:8080/",
          "height": 873
        },
        "outputId": "86a101e7-37de-4d99-b6c6-09fcf97af168"
      },
      "source": [
        "df.hist(figsize=(12,12),bins=50)\n",
        "plt.tight_layout()"
      ],
      "execution_count": 463,
      "outputs": [
        {
          "output_type": "display_data",
          "data": {
            "image/png": "[encoded data removed]",
            "text/plain": [
              "<Figure size 864x864 with 12 Axes>"
            ]
          },
          "metadata": {
            "tags": [],
            "needs_background": "light"
          }
        }
      ]
    },
    {
      "cell_type": "code",
      "metadata": {
        "id": "omyWDuYBPkVR",
        "colab": {
          "base_uri": "https://localhost:8080/",
          "height": 513
        },
        "outputId": "e84c02ea-9585-4f6f-a9a1-d85ade51b71d"
      },
      "source": [
        "plt.figure(figsize=(10,7))\n",
        "sns.countplot(x='Air Quality', data=df)\n",
        "plt.tight_layout()"
      ],
      "execution_count": 464,
      "outputs": [
        {
          "output_type": "display_data",
          "data": {
            "image/png": "[encoded data removed]",
            "text/plain": [
              "<Figure size 720x504 with 1 Axes>"
            ]
          },
          "metadata": {
            "tags": [],
            "needs_background": "light"
          }
        }
      ]
    },
    {
      "cell_type": "markdown",
      "metadata": {
        "id": "BAU4oGcRHBuP"
      },
      "source": [
        "so we can see that the # , $ ,Not-obtanined,poor so we have o change the poor to Poor"
      ]
    },
    {
      "cell_type": "code",
      "metadata": {
        "id": "w0mNnJaLRpKJ"
      },
      "source": [
        "for i in df['Air Quality']:\n",
        "  df['Air Quality'].replace({'poor':'Poor','#':np.nan,\"$\":np.nan,\"Not-Obtained\":np.nan},inplace=True)"
      ],
      "execution_count": 465,
      "outputs": []
    },
    {
      "cell_type": "code",
      "metadata": {
        "id": "xqadhS_0J4W6",
        "colab": {
          "base_uri": "https://localhost:8080/",
          "height": 513
        },
        "outputId": "1343e47e-0337-4a40-c09e-4e9a169015e4"
      },
      "source": [
        "plt.figure(figsize=(10,7))\n",
        "sns.countplot(x='Air Quality', data=df)\n",
        "plt.tight_layout()"
      ],
      "execution_count": 466,
      "outputs": [
        {
          "output_type": "display_data",
          "data": {
            "image/png": "[encoded data removed]",
            "text/plain": [
              "<Figure size 720x504 with 1 Axes>"
            ]
          },
          "metadata": {
            "tags": [],
            "needs_background": "light"
          }
        }
      ]
    },
    {
      "cell_type": "markdown",
      "metadata": {
        "id": "tE39CAf5esQL"
      },
      "source": [
        "#Checking for outliers"
      ]
    },
    {
      "cell_type": "code",
      "metadata": {
        "colab": {
          "base_uri": "https://localhost:8080/",
          "height": 296
        },
        "id": "_npqflY6epiZ",
        "outputId": "fbb5c6ad-d456-4a4d-8628-3f9b3ada81f7"
      },
      "source": [
        "import seaborn as sns\n",
        "sns.kdeplot(data=df, x=\"SO2\")"
      ],
      "execution_count": 467,
      "outputs": [
        {
          "output_type": "execute_result",
          "data": {
            "text/plain": [
              "<matplotlib.axes._subplots.AxesSubplot at 0x7fd47e54ea10>"
            ]
          },
          "metadata": {
            "tags": []
          },
          "execution_count": 467
        },
        {
          "output_type": "display_data",
          "data": {
            "image/png": "[encoded data removed]",
            "text/plain": [
              "<Figure size 432x288 with 1 Axes>"
            ]
          },
          "metadata": {
            "tags": [],
            "needs_background": "light"
          }
        }
      ]
    },
    {
      "cell_type": "code",
      "metadata": {
        "colab": {
          "base_uri": "https://localhost:8080/",
          "height": 296
        },
        "id": "bZaaTmjIhuMT",
        "outputId": "88bb1f2c-219a-41f1-980c-dd5769aa8f96"
      },
      "source": [
        "sns.regplot(x=\"AQI\", y=\"PM10\", data=df)"
      ],
      "execution_count": 468,
      "outputs": [
        {
          "output_type": "execute_result",
          "data": {
            "text/plain": [
              "<matplotlib.axes._subplots.AxesSubplot at 0x7fd490ef07d0>"
            ]
          },
          "metadata": {
            "tags": []
          },
          "execution_count": 468
        },
        {
          "output_type": "display_data",
          "data": {
            "image/png": "[encoded data removed]",
            "text/plain": [
              "<Figure size 432x288 with 1 Axes>"
            ]
          },
          "metadata": {
            "tags": [],
            "needs_background": "light"
          }
        }
      ]
    },
    {
      "cell_type": "markdown",
      "metadata": {
        "id": "7yi4XeFdiEDu"
      },
      "source": [
        "so you can see that the pm10 value is directly proportion with the AQI."
      ]
    },
    {
      "cell_type": "code",
      "metadata": {
        "colab": {
          "base_uri": "https://localhost:8080/",
          "height": 296
        },
        "id": "wa2QjdF_h7a8",
        "outputId": "2abf1434-23d7-4935-8115-f65f2471c651"
      },
      "source": [
        "sns.regplot(x=\"AQI\", y=\"PM2.5\", data=df)"
      ],
      "execution_count": 469,
      "outputs": [
        {
          "output_type": "execute_result",
          "data": {
            "text/plain": [
              "<matplotlib.axes._subplots.AxesSubplot at 0x7fd47e960650>"
            ]
          },
          "metadata": {
            "tags": []
          },
          "execution_count": 469
        },
        {
          "output_type": "display_data",
          "data": {
            "image/png": "[encoded data removed]",
            "text/plain": [
              "<Figure size 432x288 with 1 Axes>"
            ]
          },
          "metadata": {
            "tags": [],
            "needs_background": "light"
          }
        }
      ]
    },
    {
      "cell_type": "markdown",
      "metadata": {
        "id": "iPl5wcR_ia8C"
      },
      "source": [
        "same goes for the pm2.5 value is directly proportion with the AQI"
      ]
    },
    {
      "cell_type": "code",
      "metadata": {
        "id": "dKoscEbQKWzX",
        "colab": {
          "base_uri": "https://localhost:8080/"
        },
        "outputId": "0e497103-0c54-4330-f78c-5126aae99f7f"
      },
      "source": [
        "df['Air Quality'].unique()"
      ],
      "execution_count": 470,
      "outputs": [
        {
          "output_type": "execute_result",
          "data": {
            "text/plain": [
              "array(['Poor', 'Very Poor', 'Severe', 'Moderate', nan, 'Satisfactory',\n",
              "       'Good', 'Satisfactory '], dtype=object)"
            ]
          },
          "metadata": {
            "tags": []
          },
          "execution_count": 470
        }
      ]
    },
    {
      "cell_type": "code",
      "metadata": {
        "id": "08CXp4gFMZnX",
        "colab": {
          "base_uri": "https://localhost:8080/"
        },
        "outputId": "3f69cdab-f383-4397-8f8a-86fe54839efa"
      },
      "source": [
        "df.isnull().sum()"
      ],
      "execution_count": 471,
      "outputs": [
        {
          "output_type": "execute_result",
          "data": {
            "text/plain": [
              "NO               0\n",
              "NO2              0\n",
              "NOx              0\n",
              "NH3              0\n",
              "SO2              0\n",
              "CO               0\n",
              "O3               0\n",
              "PM2.5            0\n",
              "PM10             0\n",
              "Air Quality    121\n",
              "AQI              0\n",
              "dtype: int64"
            ]
          },
          "metadata": {
            "tags": []
          },
          "execution_count": 471
        }
      ]
    },
    {
      "cell_type": "code",
      "metadata": {
        "id": "PslgVYJwMZjr",
        "colab": {
          "base_uri": "https://localhost:8080/",
          "height": 284
        },
        "outputId": "1e202f3f-4a3a-40e8-d788-ab1b7b07cad1"
      },
      "source": [
        "df.describe()"
      ],
      "execution_count": 472,
      "outputs": [
        {
          "output_type": "execute_result",
          "data": {
            "text/html": [
              "<div>\n",
              "<style scoped>\n",
              "    .dataframe tbody tr th:only-of-type {\n",
              "        vertical-align: middle;\n",
              "    }\n",
              "\n",
              "    .dataframe tbody tr th {\n",
              "        vertical-align: top;\n",
              "    }\n",
              "\n",
              "    .dataframe thead th {\n",
              "        text-align: right;\n",
              "    }\n",
              "</style>\n",
              "<table border=\"1\" class=\"dataframe\">\n",
              "  <thead>\n",
              "    <tr style=\"text-align: right;\">\n",
              "      <th></th>\n",
              "      <th>NO</th>\n",
              "      <th>NO2</th>\n",
              "      <th>NOx</th>\n",
              "      <th>NH3</th>\n",
              "      <th>SO2</th>\n",
              "      <th>CO</th>\n",
              "      <th>O3</th>\n",
              "      <th>PM2.5</th>\n",
              "      <th>PM10</th>\n",
              "      <th>AQI</th>\n",
              "    </tr>\n",
              "  </thead>\n",
              "  <tbody>\n",
              "    <tr>\n",
              "      <th>count</th>\n",
              "      <td>2162.000000</td>\n",
              "      <td>2162.000000</td>\n",
              "      <td>2162.000000</td>\n",
              "      <td>2162.000000</td>\n",
              "      <td>2162.000000</td>\n",
              "      <td>2162.000000</td>\n",
              "      <td>2162.000000</td>\n",
              "      <td>2162.000000</td>\n",
              "      <td>2162.000000</td>\n",
              "      <td>2162.000000</td>\n",
              "    </tr>\n",
              "    <tr>\n",
              "      <th>mean</th>\n",
              "      <td>28.724135</td>\n",
              "      <td>32.459949</td>\n",
              "      <td>39.205689</td>\n",
              "      <td>34.809852</td>\n",
              "      <td>14.990000</td>\n",
              "      <td>1.173765</td>\n",
              "      <td>27.073834</td>\n",
              "      <td>85.816323</td>\n",
              "      <td>131.483636</td>\n",
              "      <td>175.435708</td>\n",
              "    </tr>\n",
              "    <tr>\n",
              "      <th>std</th>\n",
              "      <td>61.701926</td>\n",
              "      <td>24.400840</td>\n",
              "      <td>57.623721</td>\n",
              "      <td>33.806780</td>\n",
              "      <td>16.817531</td>\n",
              "      <td>2.323499</td>\n",
              "      <td>19.815171</td>\n",
              "      <td>49.291872</td>\n",
              "      <td>94.147587</td>\n",
              "      <td>93.467387</td>\n",
              "    </tr>\n",
              "    <tr>\n",
              "      <th>min</th>\n",
              "      <td>0.000000</td>\n",
              "      <td>0.000000</td>\n",
              "      <td>0.000000</td>\n",
              "      <td>0.000000</td>\n",
              "      <td>0.000000</td>\n",
              "      <td>0.000000</td>\n",
              "      <td>0.000000</td>\n",
              "      <td>0.000000</td>\n",
              "      <td>0.000000</td>\n",
              "      <td>0.000000</td>\n",
              "    </tr>\n",
              "    <tr>\n",
              "      <th>25%</th>\n",
              "      <td>4.200000</td>\n",
              "      <td>14.142500</td>\n",
              "      <td>13.572500</td>\n",
              "      <td>9.082500</td>\n",
              "      <td>6.485000</td>\n",
              "      <td>0.612500</td>\n",
              "      <td>12.715000</td>\n",
              "      <td>53.562500</td>\n",
              "      <td>76.662500</td>\n",
              "      <td>108.000000</td>\n",
              "    </tr>\n",
              "    <tr>\n",
              "      <th>50%</th>\n",
              "      <td>8.670000</td>\n",
              "      <td>28.420000</td>\n",
              "      <td>22.450000</td>\n",
              "      <td>27.605000</td>\n",
              "      <td>10.765000</td>\n",
              "      <td>0.900000</td>\n",
              "      <td>22.020000</td>\n",
              "      <td>77.395000</td>\n",
              "      <td>126.615000</td>\n",
              "      <td>164.000000</td>\n",
              "    </tr>\n",
              "    <tr>\n",
              "      <th>75%</th>\n",
              "      <td>24.090000</td>\n",
              "      <td>44.347500</td>\n",
              "      <td>38.705000</td>\n",
              "      <td>45.475000</td>\n",
              "      <td>17.607500</td>\n",
              "      <td>1.340000</td>\n",
              "      <td>35.472500</td>\n",
              "      <td>109.630000</td>\n",
              "      <td>180.247500</td>\n",
              "      <td>244.000000</td>\n",
              "    </tr>\n",
              "    <tr>\n",
              "      <th>max</th>\n",
              "      <td>457.340000</td>\n",
              "      <td>211.860000</td>\n",
              "      <td>477.290000</td>\n",
              "      <td>222.710000</td>\n",
              "      <td>431.390000</td>\n",
              "      <td>95.830000</td>\n",
              "      <td>188.700000</td>\n",
              "      <td>449.800000</td>\n",
              "      <td>582.700000</td>\n",
              "      <td>459.000000</td>\n",
              "    </tr>\n",
              "  </tbody>\n",
              "</table>\n",
              "</div>"
            ],
            "text/plain": [
              "                NO          NO2  ...         PM10          AQI\n",
              "count  2162.000000  2162.000000  ...  2162.000000  2162.000000\n",
              "mean     28.724135    32.459949  ...   131.483636   175.435708\n",
              "std      61.701926    24.400840  ...    94.147587    93.467387\n",
              "min       0.000000     0.000000  ...     0.000000     0.000000\n",
              "25%       4.200000    14.142500  ...    76.662500   108.000000\n",
              "50%       8.670000    28.420000  ...   126.615000   164.000000\n",
              "75%      24.090000    44.347500  ...   180.247500   244.000000\n",
              "max     457.340000   211.860000  ...   582.700000   459.000000\n",
              "\n",
              "[8 rows x 10 columns]"
            ]
          },
          "metadata": {
            "tags": []
          },
          "execution_count": 472
        }
      ]
    },
    {
      "cell_type": "code",
      "metadata": {
        "id": "sUFl6lfIMZgK",
        "colab": {
          "base_uri": "https://localhost:8080/"
        },
        "outputId": "b24c44f6-31e7-434a-e0ee-13aefc05a7c4"
      },
      "source": [
        "df.duplicated().sum()"
      ],
      "execution_count": 473,
      "outputs": [
        {
          "output_type": "execute_result",
          "data": {
            "text/plain": [
              "1"
            ]
          },
          "metadata": {
            "tags": []
          },
          "execution_count": 473
        }
      ]
    },
    {
      "cell_type": "code",
      "metadata": {
        "id": "pcHQgNc5MZcj"
      },
      "source": [
        "df.drop_duplicates( keep='first', inplace=True)"
      ],
      "execution_count": 474,
      "outputs": []
    },
    {
      "cell_type": "code",
      "metadata": {
        "id": "bFJyH3oBMmXv"
      },
      "source": [
        "x=df.drop(['AQI','Air Quality'],axis=1)\n",
        "y=df['AQI']\n"
      ],
      "execution_count": 475,
      "outputs": []
    },
    {
      "cell_type": "code",
      "metadata": {
        "id": "t1Gd0R0meYl9",
        "colab": {
          "base_uri": "https://localhost:8080/",
          "height": 195
        },
        "outputId": "922933e4-d440-4513-9fb6-dec9d8d714e3"
      },
      "source": [
        "x.head()"
      ],
      "execution_count": 476,
      "outputs": [
        {
          "output_type": "execute_result",
          "data": {
            "text/html": [
              "<div>\n",
              "<style scoped>\n",
              "    .dataframe tbody tr th:only-of-type {\n",
              "        vertical-align: middle;\n",
              "    }\n",
              "\n",
              "    .dataframe tbody tr th {\n",
              "        vertical-align: top;\n",
              "    }\n",
              "\n",
              "    .dataframe thead th {\n",
              "        text-align: right;\n",
              "    }\n",
              "</style>\n",
              "<table border=\"1\" class=\"dataframe\">\n",
              "  <thead>\n",
              "    <tr style=\"text-align: right;\">\n",
              "      <th></th>\n",
              "      <th>NO</th>\n",
              "      <th>NO2</th>\n",
              "      <th>NOx</th>\n",
              "      <th>NH3</th>\n",
              "      <th>SO2</th>\n",
              "      <th>CO</th>\n",
              "      <th>O3</th>\n",
              "      <th>PM2.5</th>\n",
              "      <th>PM10</th>\n",
              "    </tr>\n",
              "  </thead>\n",
              "  <tbody>\n",
              "    <tr>\n",
              "      <th>0</th>\n",
              "      <td>55.04</td>\n",
              "      <td>87.10</td>\n",
              "      <td>89.64</td>\n",
              "      <td>33.72</td>\n",
              "      <td>18.04</td>\n",
              "      <td>1.39</td>\n",
              "      <td>34.60</td>\n",
              "      <td>113.33</td>\n",
              "      <td>215.96</td>\n",
              "    </tr>\n",
              "    <tr>\n",
              "      <th>1</th>\n",
              "      <td>55.13</td>\n",
              "      <td>98.94</td>\n",
              "      <td>92.99</td>\n",
              "      <td>54.68</td>\n",
              "      <td>17.04</td>\n",
              "      <td>2.51</td>\n",
              "      <td>22.08</td>\n",
              "      <td>162.97</td>\n",
              "      <td>222.29</td>\n",
              "    </tr>\n",
              "    <tr>\n",
              "      <th>2</th>\n",
              "      <td>39.19</td>\n",
              "      <td>99.80</td>\n",
              "      <td>90.53</td>\n",
              "      <td>58.27</td>\n",
              "      <td>3.32</td>\n",
              "      <td>3.35</td>\n",
              "      <td>4.77</td>\n",
              "      <td>242.98</td>\n",
              "      <td>402.69</td>\n",
              "    </tr>\n",
              "    <tr>\n",
              "      <th>3</th>\n",
              "      <td>4.42</td>\n",
              "      <td>36.47</td>\n",
              "      <td>22.27</td>\n",
              "      <td>12.09</td>\n",
              "      <td>24.38</td>\n",
              "      <td>1.26</td>\n",
              "      <td>69.59</td>\n",
              "      <td>161.53</td>\n",
              "      <td>199.28</td>\n",
              "    </tr>\n",
              "    <tr>\n",
              "      <th>4</th>\n",
              "      <td>83.68</td>\n",
              "      <td>73.10</td>\n",
              "      <td>105.29</td>\n",
              "      <td>46.34</td>\n",
              "      <td>19.64</td>\n",
              "      <td>3.27</td>\n",
              "      <td>21.13</td>\n",
              "      <td>107.29</td>\n",
              "      <td>390.84</td>\n",
              "    </tr>\n",
              "  </tbody>\n",
              "</table>\n",
              "</div>"
            ],
            "text/plain": [
              "      NO    NO2     NOx    NH3    SO2    CO     O3   PM2.5    PM10\n",
              "0  55.04  87.10   89.64  33.72  18.04  1.39  34.60  113.33  215.96\n",
              "1  55.13  98.94   92.99  54.68  17.04  2.51  22.08  162.97  222.29\n",
              "2  39.19  99.80   90.53  58.27   3.32  3.35   4.77  242.98  402.69\n",
              "3   4.42  36.47   22.27  12.09  24.38  1.26  69.59  161.53  199.28\n",
              "4  83.68  73.10  105.29  46.34  19.64  3.27  21.13  107.29  390.84"
            ]
          },
          "metadata": {
            "tags": []
          },
          "execution_count": 476
        }
      ]
    },
    {
      "cell_type": "code",
      "metadata": {
        "id": "ZntQsM_KeccB",
        "colab": {
          "base_uri": "https://localhost:8080/"
        },
        "outputId": "5945afaa-a9be-4694-df24-4bcd30038dd9"
      },
      "source": [
        "y.head()"
      ],
      "execution_count": 477,
      "outputs": [
        {
          "output_type": "execute_result",
          "data": {
            "text/plain": [
              "0    269\n",
              "1    334\n",
              "2    397\n",
              "3    349\n",
              "4    329\n",
              "Name: AQI, dtype: int64"
            ]
          },
          "metadata": {
            "tags": []
          },
          "execution_count": 477
        }
      ]
    },
    {
      "cell_type": "code",
      "metadata": {
        "colab": {
          "base_uri": "https://localhost:8080/"
        },
        "id": "S1Z4UO7XMwJT",
        "outputId": "5716f99b-9944-4df7-c0a4-e131640aa3c8"
      },
      "source": [
        "x.shape"
      ],
      "execution_count": 478,
      "outputs": [
        {
          "output_type": "execute_result",
          "data": {
            "text/plain": [
              "(2161, 9)"
            ]
          },
          "metadata": {
            "tags": []
          },
          "execution_count": 478
        }
      ]
    },
    {
      "cell_type": "code",
      "metadata": {
        "colab": {
          "base_uri": "https://localhost:8080/"
        },
        "id": "AhdGOU5HKsa-",
        "outputId": "917ce5bb-5603-4f44-dcc2-e261f0e8f2aa"
      },
      "source": [
        "y.shape"
      ],
      "execution_count": 479,
      "outputs": [
        {
          "output_type": "execute_result",
          "data": {
            "text/plain": [
              "(2161,)"
            ]
          },
          "metadata": {
            "tags": []
          },
          "execution_count": 479
        }
      ]
    },
    {
      "cell_type": "markdown",
      "metadata": {
        "id": "BTqA6qLqFZJo"
      },
      "source": [
        "#EXTRA TREE REGRESSOR"
      ]
    },
    {
      "cell_type": "code",
      "metadata": {
        "id": "RMn19rWUFowr",
        "colab": {
          "base_uri": "https://localhost:8080/"
        },
        "outputId": "32fb2848-690a-43b6-ae80-c3ed34eb6c36"
      },
      "source": [
        "from sklearn.ensemble import ExtraTreesRegressor\n",
        "import matplotlib.pyplot as plt\n",
        "model=ExtraTreesRegressor()\n",
        "model.fit(x,y)"
      ],
      "execution_count": 480,
      "outputs": [
        {
          "output_type": "execute_result",
          "data": {
            "text/plain": [
              "ExtraTreesRegressor(bootstrap=False, ccp_alpha=0.0, criterion='mse',\n",
              "                    max_depth=None, max_features='auto', max_leaf_nodes=None,\n",
              "                    max_samples=None, min_impurity_decrease=0.0,\n",
              "                    min_impurity_split=None, min_samples_leaf=1,\n",
              "                    min_samples_split=2, min_weight_fraction_leaf=0.0,\n",
              "                    n_estimators=100, n_jobs=None, oob_score=False,\n",
              "                    random_state=None, verbose=0, warm_start=False)"
            ]
          },
          "metadata": {
            "tags": []
          },
          "execution_count": 480
        }
      ]
    },
    {
      "cell_type": "code",
      "metadata": {
        "id": "9ccwRfliFosx",
        "colab": {
          "base_uri": "https://localhost:8080/"
        },
        "outputId": "3fa2154b-cd8c-46d6-bb4b-7fce9f44a656"
      },
      "source": [
        "print(model.feature_importances_)"
      ],
      "execution_count": 481,
      "outputs": [
        {
          "output_type": "stream",
          "text": [
            "[0.0466547  0.04927925 0.04425363 0.04645271 0.04917274 0.06137673\n",
            " 0.05259384 0.46976688 0.18044952]\n"
          ],
          "name": "stdout"
        }
      ]
    },
    {
      "cell_type": "code",
      "metadata": {
        "id": "XnJYWid3oCQU",
        "colab": {
          "base_uri": "https://localhost:8080/",
          "height": 286
        },
        "outputId": "13d73cc4-5c0a-4db0-9c8c-7b7f1e844994"
      },
      "source": [
        "feat_importances=pd.Series(model.feature_importances_,index=x.columns)\n",
        "feat_importances.nlargest(10).plot(kind='bar')\n",
        "plt.show()"
      ],
      "execution_count": 482,
      "outputs": [
        {
          "output_type": "display_data",
          "data": {
            "image/png": "[encoded data removed]",
            "text/plain": [
              "<Figure size 432x288 with 1 Axes>"
            ]
          },
          "metadata": {
            "tags": [],
            "needs_background": "light"
          }
        }
      ]
    },
    {
      "cell_type": "code",
      "metadata": {
        "id": "hF1Z5cy5pXU2",
        "colab": {
          "base_uri": "https://localhost:8080/",
          "height": 353
        },
        "outputId": "61af6d6d-3cb0-4dae-b13b-dd2a72737cdc"
      },
      "source": [
        "import seaborn as sns\n",
        "sns.distplot(y)"
      ],
      "execution_count": 483,
      "outputs": [
        {
          "output_type": "stream",
          "text": [
            "/usr/local/lib/python3.7/dist-packages/seaborn/distributions.py:2557: FutureWarning: `distplot` is a deprecated function and will be removed in a future version. Please adapt your code to use either `displot` (a figure-level function with similar flexibility) or `histplot` (an axes-level function for histograms).\n",
            "  warnings.warn(msg, FutureWarning)\n"
          ],
          "name": "stderr"
        },
        {
          "output_type": "execute_result",
          "data": {
            "text/plain": [
              "<matplotlib.axes._subplots.AxesSubplot at 0x7fd47e27a0d0>"
            ]
          },
          "metadata": {
            "tags": []
          },
          "execution_count": 483
        },
        {
          "output_type": "display_data",
          "data": {
            "image/png": "[encoded data removed]",
            "text/plain": [
              "<Figure size 432x288 with 1 Axes>"
            ]
          },
          "metadata": {
            "tags": [],
            "needs_background": "light"
          }
        }
      ]
    },
    {
      "cell_type": "markdown",
      "metadata": {
        "id": "h68PZ_cPqGW3"
      },
      "source": [
        "this suggest that there might me some outlier as the y is not continous"
      ]
    },
    {
      "cell_type": "markdown",
      "metadata": {
        "id": "ssZeQ7CFIw5z"
      },
      "source": [
        "<h2>Mean absolute error:</h2> This is the average of absolute errors of all the data points in the given dataset.<br>\n",
        "<h2>Mean squared error:</h2> This is the average of the squares of the errors of all the data points in the given dataset. It is one of the most popular metrics out there!<br>\n",
        "<h2>Median absolute error:</h2> This is the median of all the errors in the given dataset. The main advantage of this metric is that it's robust to outliers. A single bad point in the test dataset wouldn't skew the entire error metric, as opposed to a mean error metric.<br>\n",
        "<h2>Explained variance score:</h2> This score measures how well our model can account for the variation in our dataset. A score of 1.0 indicates that our model is perfect.<br>\n",
        "<h2>R2 score:</h2> This is pronounced as R-squared, and this score refers to the coefficient of determination. This tells us how well the unknown samples will be predicted by our model. The best possible score is 1.0, but the score can be negative as well.<br>"
      ]
    },
    {
      "cell_type": "markdown",
      "metadata": {
        "id": "v1WAoBQuOau5"
      },
      "source": [
        "#APPLYING LINEAR REGRESSION"
      ]
    },
    {
      "cell_type": "code",
      "metadata": {
        "id": "BipFX-biMmRa"
      },
      "source": [
        "from sklearn.linear_model import LinearRegression\n",
        "from sklearn.model_selection import train_test_split\n",
        "from sklearn.metrics import classification_report,confusion_matrix\n",
        "from sklearn import metrics"
      ],
      "execution_count": 484,
      "outputs": []
    },
    {
      "cell_type": "code",
      "metadata": {
        "id": "qR9QY6-zp8lB"
      },
      "source": [
        "X_train,X_test,y_train,y_test=train_test_split(x,y,test_size=0.3,random_state=4)"
      ],
      "execution_count": 485,
      "outputs": []
    },
    {
      "cell_type": "code",
      "metadata": {
        "id": "iKc1sx_7MmOF"
      },
      "source": [
        "lnr=LinearRegression()\n",
        "lnr.fit(X_train,y_train)\n",
        "y_pred=lnr.predict(X_test)"
      ],
      "execution_count": 486,
      "outputs": []
    },
    {
      "cell_type": "code",
      "metadata": {
        "colab": {
          "base_uri": "https://localhost:8080/"
        },
        "id": "F5GS-qccWH8R",
        "outputId": "d671ba8a-0757-4d49-bf44-4024ff8c78ab"
      },
      "source": [
        "import sklearn.metrics as sm\n",
        "acc_lnr = metrics.r2_score(y_test, y_pred)\n",
        "print('R^2:', acc_lnr)\n",
        "print('Adjusted R^2:',1 - (1-metrics.r2_score(y_test, y_pred))*(len(y_test)-1)/(len(y_test)-X_test.shape[1]-1))\n",
        "print('MAE:',metrics.mean_absolute_error(y_test, y_pred))\n",
        "print('MSE:',metrics.mean_squared_error(y_test, y_pred))\n",
        "print('RMSE:',np.sqrt(metrics.mean_squared_error(y_test, y_pred)))"
      ],
      "execution_count": 487,
      "outputs": [
        {
          "output_type": "stream",
          "text": [
            "R^2: 0.5070778693836804\n",
            "Adjusted R^2: 0.5001353041637322\n",
            "MAE: 48.36314547023093\n",
            "MSE: 4588.086232076022\n",
            "RMSE: 67.73541342662656\n"
          ],
          "name": "stdout"
        }
      ]
    },
    {
      "cell_type": "code",
      "metadata": {
        "colab": {
          "base_uri": "https://localhost:8080/",
          "height": 295
        },
        "id": "yVJQcPI_qrid",
        "outputId": "976aeaf7-cae0-47c4-a477-ad1c13d6fe01"
      },
      "source": [
        "plt.scatter(y_test, y_pred)\n",
        "plt.xlabel(\"AQI\")\n",
        "plt.ylabel(\"Predicted AQI\")\n",
        "plt.title(\"AQI vs Predicted AQI\")\n",
        "plt.show()"
      ],
      "execution_count": 488,
      "outputs": [
        {
          "output_type": "display_data",
          "data": {
            "image/png": "[encoded data removed]",
            "text/plain": [
              "<Figure size 432x288 with 1 Axes>"
            ]
          },
          "metadata": {
            "tags": [],
            "needs_background": "light"
          }
        }
      ]
    },
    {
      "cell_type": "markdown",
      "metadata": {
        "id": "CsK4k153VGKy"
      },
      "source": [
        "#APPLYING RANDOM FOREST"
      ]
    },
    {
      "cell_type": "code",
      "metadata": {
        "id": "dPoMkUt6hoTN"
      },
      "source": [
        "from sklearn.ensemble import RandomForestRegressor\n",
        "reg = RandomForestRegressor(n_estimators=20)\n",
        "reg.fit(X_train, y_train)\n",
        "y_pred=reg.predict(X_test)"
      ],
      "execution_count": 489,
      "outputs": []
    },
    {
      "cell_type": "code",
      "metadata": {
        "colab": {
          "base_uri": "https://localhost:8080/"
        },
        "id": "2wPiyihoZZ2T",
        "outputId": "ba9b2342-1ca5-4000-da80-1bf4a71e0a1e"
      },
      "source": [
        "import sklearn.metrics as sm\n",
        "acc_rf = metrics.r2_score(y_test, y_pred)\n",
        "print('R^2:', acc_rf)\n",
        "print('Adjusted R^2:',1 - (1-metrics.r2_score(y_test, y_pred))*(len(y_test)-1)/(len(y_test)-X_test.shape[1]-1))\n",
        "print('MAE:',metrics.mean_absolute_error(y_test, y_pred))\n",
        "print('MSE:',metrics.mean_squared_error(y_test, y_pred))\n",
        "print('RMSE:',np.sqrt(metrics.mean_squared_error(y_test, y_pred)))"
      ],
      "execution_count": 490,
      "outputs": [
        {
          "output_type": "stream",
          "text": [
            "R^2: 0.5069158677193526\n",
            "Adjusted R^2: 0.49997102078582234\n",
            "MAE: 46.22296224961479\n",
            "MSE: 4589.594132735191\n",
            "RMSE: 67.74654332683839\n"
          ],
          "name": "stdout"
        }
      ]
    },
    {
      "cell_type": "code",
      "metadata": {
        "colab": {
          "base_uri": "https://localhost:8080/",
          "height": 295
        },
        "id": "Ofj46GCEq2eL",
        "outputId": "5fc78758-ed89-4143-b7d7-9db06ce6d645"
      },
      "source": [
        "plt.scatter(y_test, y_pred)\n",
        "plt.xlabel(\"AQI\")\n",
        "plt.ylabel(\"Predicted AQI\")\n",
        "plt.title(\"AQI vs Predicted AQI\")\n",
        "plt.show()"
      ],
      "execution_count": 491,
      "outputs": [
        {
          "output_type": "display_data",
          "data": {
            "image/png": "[encoded data removed]",
            "text/plain": [
              "<Figure size 432x288 with 1 Axes>"
            ]
          },
          "metadata": {
            "tags": [],
            "needs_background": "light"
          }
        }
      ]
    },
    {
      "cell_type": "markdown",
      "metadata": {
        "id": "7LSrsft6vl4a"
      },
      "source": [
        "#APPLYING THE SVR MODEL"
      ]
    },
    {
      "cell_type": "code",
      "metadata": {
        "id": "qyH2EevyvyAh"
      },
      "source": [
        "from sklearn.svm import SVR\n",
        "regressor = SVR(kernel = 'rbf')\n",
        "regressor.fit(X_train, y_train)\n",
        "y_pred=regressor.predict(X_test)"
      ],
      "execution_count": 492,
      "outputs": []
    },
    {
      "cell_type": "code",
      "metadata": {
        "id": "rk0t2hRmLN-x",
        "colab": {
          "base_uri": "https://localhost:8080/"
        },
        "outputId": "040f216c-561b-4e87-dfce-a85c1182aff0"
      },
      "source": [
        "import sklearn.metrics as sm\n",
        "acc_svm = metrics.r2_score(y_test, y_pred)\n",
        "print('R^2:', acc_svm)\n",
        "print('Adjusted R^2:',1 - (1-metrics.r2_score(y_test, y_pred))*(len(y_test)-1)/(len(y_test)-X_test.shape[1]-1))\n",
        "print('MAE:',metrics.mean_absolute_error(y_test, y_pred))\n",
        "print('MSE:',metrics.mean_squared_error(y_test, y_pred))\n",
        "print('RMSE:',np.sqrt(metrics.mean_squared_error(y_test, y_pred)))"
      ],
      "execution_count": 493,
      "outputs": [
        {
          "output_type": "stream",
          "text": [
            "R^2: 0.4124863046280639\n",
            "Adjusted R^2: 0.4042114638481774\n",
            "MAE: 54.862961098155864\n",
            "MSE: 5468.538191867585\n",
            "RMSE: 73.94956519052417\n"
          ],
          "name": "stdout"
        }
      ]
    },
    {
      "cell_type": "code",
      "metadata": {
        "colab": {
          "base_uri": "https://localhost:8080/",
          "height": 295
        },
        "id": "8zgGYlk5q3xL",
        "outputId": "7bcda6d2-0aa1-44f0-c1bb-dc2cff9deba9"
      },
      "source": [
        "plt.scatter(y_test, y_pred)\n",
        "plt.xlabel(\"AQI\")\n",
        "plt.ylabel(\"Predicted AQI\")\n",
        "plt.title(\"AQI vs Predicted AQI\")\n",
        "plt.show()"
      ],
      "execution_count": 494,
      "outputs": [
        {
          "output_type": "display_data",
          "data": {
            "image/png": "[encoded data removed]",
            "text/plain": [
              "<Figure size 432x288 with 1 Axes>"
            ]
          },
          "metadata": {
            "tags": [],
            "needs_background": "light"
          }
        }
      ]
    },
    {
      "cell_type": "markdown",
      "metadata": {
        "id": "kXQfN-W-FRdG"
      },
      "source": [
        "#LASSO regression"
      ]
    },
    {
      "cell_type": "code",
      "metadata": {
        "id": "WmEBZLe-gv2Y"
      },
      "source": [
        "from numpy import mean\n",
        "from numpy import std\n",
        "from numpy import absolute\n",
        "from pandas import read_csv\n",
        "from sklearn.model_selection import cross_val_score\n",
        "from sklearn.model_selection import RepeatedKFold\n",
        "from sklearn.linear_model import Lasso"
      ],
      "execution_count": 495,
      "outputs": []
    },
    {
      "cell_type": "code",
      "metadata": {
        "id": "5LhOqJKCiBPj",
        "colab": {
          "base_uri": "https://localhost:8080/"
        },
        "outputId": "920a7b10-610a-4e6e-e995-9c0c306c0230"
      },
      "source": [
        "# define model\n",
        "model = Lasso(alpha=1.0)\n",
        "# define model evaluation method\n",
        "cv = RepeatedKFold(n_splits=10, n_repeats=3, random_state=1)\n",
        " \n",
        "# evaluate model\n",
        "scores = cross_val_score(model, X_train, y_train, scoring='neg_mean_absolute_error', cv=cv, n_jobs=-1)\n",
        "# force scores to be positive\n",
        "scores = absolute(scores)\n",
        "print('Mean MAE: %.3f (%.3f)' % (mean(scores), std(scores)))"
      ],
      "execution_count": 496,
      "outputs": [
        {
          "output_type": "stream",
          "text": [
            "Mean MAE: 46.214 (3.756)\n"
          ],
          "name": "stdout"
        }
      ]
    },
    {
      "cell_type": "markdown",
      "metadata": {
        "id": "EYDO9ZoKFyJF"
      },
      "source": [
        "#XGBOOST REGRESSOR"
      ]
    },
    {
      "cell_type": "code",
      "metadata": {
        "id": "gby7aCcTGKwa"
      },
      "source": [
        "import xgboost as xg\n",
        "from sklearn.metrics import mean_squared_error as MSE "
      ],
      "execution_count": 497,
      "outputs": []
    },
    {
      "cell_type": "code",
      "metadata": {
        "id": "ljouB3cEmF95",
        "colab": {
          "base_uri": "https://localhost:8080/"
        },
        "outputId": "3aab26cf-eb65-44cd-a908-d227d292daf0"
      },
      "source": [
        "xgb_r = xg.XGBRegressor() \n",
        "# Fitting the model \n",
        "xgb_r.fit(X_train, y_train) \n",
        "  \n",
        "# Predict the model \n",
        "y_pred = xgb_r.predict(X_test) "
      ],
      "execution_count": 498,
      "outputs": [
        {
          "output_type": "stream",
          "text": [
            "[11:31:32] WARNING: /workspace/src/objective/regression_obj.cu:152: reg:linear is now deprecated in favor of reg:squarederror.\n"
          ],
          "name": "stdout"
        }
      ]
    },
    {
      "cell_type": "code",
      "metadata": {
        "colab": {
          "base_uri": "https://localhost:8080/"
        },
        "id": "6aHDsRNOq6E5",
        "outputId": "028bb7d3-7919-4684-e578-0a98f6c4335d"
      },
      "source": [
        "import sklearn.metrics as sm\n",
        "acc_xg = metrics.r2_score(y_test, y_pred)\n",
        "print('R^2:', acc_xg)\n",
        "print('Adjusted R^2:',1 - (1-metrics.r2_score(y_test, y_pred))*(len(y_test)-1)/(len(y_test)-X_test.shape[1]-1))\n",
        "print('MAE:',metrics.mean_absolute_error(y_test, y_pred))\n",
        "print('MSE:',metrics.mean_squared_error(y_test, y_pred))\n",
        "print('RMSE:',np.sqrt(metrics.mean_squared_error(y_test, y_pred)))"
      ],
      "execution_count": 499,
      "outputs": [
        {
          "output_type": "stream",
          "text": [
            "R^2: 0.5198240651338447\n",
            "Adjusted R^2: 0.5130610237977016\n",
            "MAE: 45.58005936891529\n",
            "MSE: 4469.445494319828\n",
            "RMSE: 66.85391158578403\n"
          ],
          "name": "stdout"
        }
      ]
    },
    {
      "cell_type": "code",
      "metadata": {
        "colab": {
          "base_uri": "https://localhost:8080/",
          "height": 295
        },
        "id": "zprV3vE6slq1",
        "outputId": "a24bb880-48fe-4d8d-e246-f3eeb5d18c86"
      },
      "source": [
        "plt.scatter(y_test, y_pred)\n",
        "plt.xlabel(\"AQI\")\n",
        "plt.ylabel(\"Predicted AQI\")\n",
        "plt.title(\"AQI vs Predicted AQI\")\n",
        "plt.show()"
      ],
      "execution_count": 500,
      "outputs": [
        {
          "output_type": "display_data",
          "data": {
            "image/png": "[encoded data removed]",
            "text/plain": [
              "<Figure size 432x288 with 1 Axes>"
            ]
          },
          "metadata": {
            "tags": [],
            "needs_background": "light"
          }
        }
      ]
    },
    {
      "cell_type": "markdown",
      "metadata": {
        "id": "mPrAr1YBFpm7"
      },
      "source": [
        "#KNN REGRESSOR"
      ]
    },
    {
      "cell_type": "code",
      "metadata": {
        "id": "RWXkwr6EFxVd"
      },
      "source": [
        "from sklearn.neighbors import KNeighborsRegressor\n",
        "neigh = KNeighborsRegressor(n_neighbors=2)\n",
        "neigh.fit(X_train, y_train)\n",
        "y_pred = neigh.predict(X_test) "
      ],
      "execution_count": 501,
      "outputs": []
    },
    {
      "cell_type": "code",
      "metadata": {
        "colab": {
          "base_uri": "https://localhost:8080/"
        },
        "id": "mjGzw-Gk8FGd",
        "outputId": "79aed1f5-1e45-4688-b676-2184940b416d"
      },
      "source": [
        "acc_knn_r = metrics.r2_score(y_test, y_pred)\n",
        "print('R^2:', acc_knn_r)\n",
        "print('Adjusted R^2:',1 - (1-metrics.r2_score(y_test, y_pred))*(len(y_test)-1)/(len(y_test)-X_test.shape[1]-1))\n",
        "print('MAE:',metrics.mean_absolute_error(y_test, y_pred))\n",
        "print('MSE:',metrics.mean_squared_error(y_test, y_pred))\n",
        "print('RMSE:',np.sqrt(metrics.mean_squared_error(y_test, y_pred)))"
      ],
      "execution_count": 502,
      "outputs": [
        {
          "output_type": "stream",
          "text": [
            "R^2: 0.3824552236707248\n",
            "Adjusted R^2: 0.37375740991960826\n",
            "MAE: 53.21263482280431\n",
            "MSE: 5748.065485362095\n",
            "RMSE: 75.81599755567485\n"
          ],
          "name": "stdout"
        }
      ]
    },
    {
      "cell_type": "markdown",
      "metadata": {
        "id": "vHkN6kYITESS"
      },
      "source": [
        "#APPLYING THE STANDARDISATION "
      ]
    },
    {
      "cell_type": "code",
      "metadata": {
        "id": "7eE8FldOOinj"
      },
      "source": [
        "from sklearn.preprocessing import StandardScaler\n",
        "scaler = StandardScaler()\n",
        "sc_X = StandardScaler()\n",
        "sc_y = StandardScaler()\n",
        "X = sc_X.fit_transform(x)\n",
        "y = sc_y.fit_transform(np.array(y).reshape(-1,1))"
      ],
      "execution_count": 503,
      "outputs": []
    },
    {
      "cell_type": "code",
      "metadata": {
        "colab": {
          "base_uri": "https://localhost:8080/"
        },
        "id": "izO0m8wE5ve8",
        "outputId": "79c16b7a-6def-4564-fa0a-a61e74e1619b"
      },
      "source": [
        "X.shape"
      ],
      "execution_count": 504,
      "outputs": [
        {
          "output_type": "execute_result",
          "data": {
            "text/plain": [
              "(2161, 9)"
            ]
          },
          "metadata": {
            "tags": []
          },
          "execution_count": 504
        }
      ]
    },
    {
      "cell_type": "code",
      "metadata": {
        "colab": {
          "base_uri": "https://localhost:8080/"
        },
        "id": "8Sx2aFkW5ydj",
        "outputId": "e46affd8-80a2-4378-af67-3f6129ca8ac5"
      },
      "source": [
        "y.shape"
      ],
      "execution_count": 505,
      "outputs": [
        {
          "output_type": "execute_result",
          "data": {
            "text/plain": [
              "(2161, 1)"
            ]
          },
          "metadata": {
            "tags": []
          },
          "execution_count": 505
        }
      ]
    },
    {
      "cell_type": "code",
      "metadata": {
        "id": "tq4CTK9_0p3D"
      },
      "source": [
        "X_train,X_test,y_train,y_test=train_test_split(X,y,test_size=0.3,random_state=4)"
      ],
      "execution_count": 506,
      "outputs": []
    },
    {
      "cell_type": "markdown",
      "metadata": {
        "id": "Srpkfn5Jz_kB"
      },
      "source": [
        "#LINEAR REGRESSION"
      ]
    },
    {
      "cell_type": "code",
      "metadata": {
        "id": "cFD4O-eVzw4-"
      },
      "source": [
        "lnr=LinearRegression()\n",
        "lnr.fit(X_train,y_train)\n",
        "y_pred=lnr.predict(X_test)"
      ],
      "execution_count": 507,
      "outputs": []
    },
    {
      "cell_type": "code",
      "metadata": {
        "colab": {
          "base_uri": "https://localhost:8080/"
        },
        "id": "-apG56fWzzsH",
        "outputId": "a5dcb6cf-3698-45ef-d914-6b8163edd1f0"
      },
      "source": [
        "import sklearn.metrics as sm\n",
        "acc_lnr_s = metrics.r2_score(y_test, y_pred)\n",
        "print('R^2:', acc_lnr_s)\n",
        "print('Adjusted R^2:',1 - (1-metrics.r2_score(y_test, y_pred))*(len(y_test)-1)/(len(y_test)-X_test.shape[1]-1))\n",
        "print('MAE:',metrics.mean_absolute_error(y_test, y_pred))\n",
        "print('MSE:',metrics.mean_squared_error(y_test, y_pred))\n",
        "print('RMSE:',np.sqrt(metrics.mean_squared_error(y_test, y_pred)))"
      ],
      "execution_count": 508,
      "outputs": [
        {
          "output_type": "stream",
          "text": [
            "R^2: 0.5070778693836805\n",
            "Adjusted R^2: 0.5001353041637324\n",
            "MAE: 0.5178558640085967\n",
            "MSE: 0.5260418428950752\n",
            "RMSE: 0.7252874208857307\n"
          ],
          "name": "stdout"
        }
      ]
    },
    {
      "cell_type": "markdown",
      "metadata": {
        "id": "1kILnzEV0EwL"
      },
      "source": [
        "#RANDOM FOREST"
      ]
    },
    {
      "cell_type": "code",
      "metadata": {
        "colab": {
          "base_uri": "https://localhost:8080/"
        },
        "id": "VbJpDw7BzzoT",
        "outputId": "99fc7220-bea8-40d0-b202-1dc21f07e780"
      },
      "source": [
        "reg = RandomForestRegressor(n_estimators=20)\n",
        "reg.fit(X_train, y_train)\n",
        "y_pred=reg.predict(X_test)"
      ],
      "execution_count": 509,
      "outputs": [
        {
          "output_type": "stream",
          "text": [
            "/usr/local/lib/python3.7/dist-packages/ipykernel_launcher.py:2: DataConversionWarning: A column-vector y was passed when a 1d array was expected. Please change the shape of y to (n_samples,), for example using ravel().\n",
            "  \n"
          ],
          "name": "stderr"
        }
      ]
    },
    {
      "cell_type": "code",
      "metadata": {
        "colab": {
          "base_uri": "https://localhost:8080/"
        },
        "id": "wsXJUdX3zzlV",
        "outputId": "1bc766a0-4ec3-48bf-c00b-5028fbd98e55"
      },
      "source": [
        "\n",
        "acc_rf_s = metrics.r2_score(y_test, y_pred)\n",
        "print('R^2:', acc_rf_s)\n",
        "print('Adjusted R^2:',1 - (1-metrics.r2_score(y_test, y_pred))*(len(y_test)-1)/(len(y_test)-X_test.shape[1]-1))\n",
        "print('MAE:',metrics.mean_absolute_error(y_test, y_pred))\n",
        "print('MSE:',metrics.mean_squared_error(y_test, y_pred))\n",
        "print('RMSE:',np.sqrt(metrics.mean_squared_error(y_test, y_pred)))"
      ],
      "execution_count": 510,
      "outputs": [
        {
          "output_type": "stream",
          "text": [
            "R^2: 0.5094451121888419\n",
            "Adjusted R^2: 0.5025358884168538\n",
            "MAE: 0.49619816735167266\n",
            "MSE: 0.5235155437284092\n",
            "RMSE: 0.7235437400243396\n"
          ],
          "name": "stdout"
        }
      ]
    },
    {
      "cell_type": "markdown",
      "metadata": {
        "id": "i2z3y-5u0Moe"
      },
      "source": [
        "#SVM (REGRESSOR)"
      ]
    },
    {
      "cell_type": "code",
      "metadata": {
        "colab": {
          "base_uri": "https://localhost:8080/"
        },
        "id": "xkv9Q-FKzzi4",
        "outputId": "797fbe89-c405-44cb-bd3a-739925f6295e"
      },
      "source": [
        "regressor = SVR(kernel = 'rbf')\n",
        "regressor.fit(X_train, y_train)\n",
        "y_pred=regressor.predict(X_test)"
      ],
      "execution_count": 511,
      "outputs": [
        {
          "output_type": "stream",
          "text": [
            "/usr/local/lib/python3.7/dist-packages/sklearn/utils/validation.py:760: DataConversionWarning: A column-vector y was passed when a 1d array was expected. Please change the shape of y to (n_samples, ), for example using ravel().\n",
            "  y = column_or_1d(y, warn=True)\n"
          ],
          "name": "stderr"
        }
      ]
    },
    {
      "cell_type": "code",
      "metadata": {
        "colab": {
          "base_uri": "https://localhost:8080/"
        },
        "id": "gP0483MTzzgR",
        "outputId": "42fa1949-6cc0-4ec0-9211-61b75d00362f"
      },
      "source": [
        "acc_svm_s = metrics.r2_score(y_test, y_pred)\n",
        "print('R^2:', acc_svm_s)\n",
        "print('Adjusted R^2:',1 - (1-metrics.r2_score(y_test, y_pred))*(len(y_test)-1)/(len(y_test)-X_test.shape[1]-1))\n",
        "print('MAE:',metrics.mean_absolute_error(y_test, y_pred))\n",
        "print('MSE:',metrics.mean_squared_error(y_test, y_pred))\n",
        "print('RMSE:',np.sqrt(metrics.mean_squared_error(y_test, y_pred)))"
      ],
      "execution_count": 512,
      "outputs": [
        {
          "output_type": "stream",
          "text": [
            "R^2: 0.5476668090190093\n",
            "Adjusted R^2: 0.5412959190051926\n",
            "MAE: 0.45277864419763314\n",
            "MSE: 0.48272570981695845\n",
            "RMSE: 0.6947846499577826\n"
          ],
          "name": "stdout"
        }
      ]
    },
    {
      "cell_type": "markdown",
      "metadata": {
        "id": "NI62E-8Z0Rpe"
      },
      "source": [
        "#LASSO REGRESSOR"
      ]
    },
    {
      "cell_type": "code",
      "metadata": {
        "colab": {
          "base_uri": "https://localhost:8080/"
        },
        "id": "PV9J164XzzbP",
        "outputId": "c49f8f2c-2f7f-4c31-d60a-94af2e427b40"
      },
      "source": [
        "model = Lasso(alpha=1.0)\n",
        "# define model evaluation method\n",
        "cv = RepeatedKFold(n_splits=10, n_repeats=3, random_state=1)\n",
        "# evaluate model\n",
        "scores = cross_val_score(model, X_train, y_train, scoring='neg_mean_absolute_error', cv=cv, n_jobs=-1)\n",
        "# force scores to be positive\n",
        "scores = absolute(scores)\n",
        "print('Mean MAE: %.3f (%.3f)' % (mean(scores), std(scores)))"
      ],
      "execution_count": 513,
      "outputs": [
        {
          "output_type": "stream",
          "text": [
            "Mean MAE: 0.805 (0.037)\n"
          ],
          "name": "stdout"
        }
      ]
    },
    {
      "cell_type": "markdown",
      "metadata": {
        "id": "47Qu-4jo0b5-"
      },
      "source": [
        "#XGBOOST"
      ]
    },
    {
      "cell_type": "code",
      "metadata": {
        "colab": {
          "base_uri": "https://localhost:8080/"
        },
        "id": "ICQKnSEx0YMb",
        "outputId": "231657eb-0030-4b52-ca11-e5a0fd88325d"
      },
      "source": [
        "xgb_r = xg.XGBRegressor() \n",
        "# Fitting the model \n",
        "xgb_r.fit(X_train, y_train) \n",
        "  \n",
        "# Predict the model \n",
        "y_pred = xgb_r.predict(X_test) "
      ],
      "execution_count": 514,
      "outputs": [
        {
          "output_type": "stream",
          "text": [
            "[11:31:33] WARNING: /workspace/src/objective/regression_obj.cu:152: reg:linear is now deprecated in favor of reg:squarederror.\n"
          ],
          "name": "stdout"
        }
      ]
    },
    {
      "cell_type": "code",
      "metadata": {
        "colab": {
          "base_uri": "https://localhost:8080/"
        },
        "id": "c5TjH8C4zzUG",
        "outputId": "2ae6c357-fc68-49a3-bee7-bc111bb8b948"
      },
      "source": [
        "acc_xg_s = metrics.r2_score(y_test, y_pred)\n",
        "print('R^2:', acc_xg_s)\n",
        "print('Adjusted R^2:',1 - (1-metrics.r2_score(y_test, y_pred))*(len(y_test)-1)/(len(y_test)-X_test.shape[1]-1))\n",
        "print('MAE:',metrics.mean_absolute_error(y_test, y_pred))\n",
        "print('MSE:',metrics.mean_squared_error(y_test, y_pred))\n",
        "print('RMSE:',np.sqrt(metrics.mean_squared_error(y_test, y_pred)))"
      ],
      "execution_count": 515,
      "outputs": [
        {
          "output_type": "stream",
          "text": [
            "R^2: 0.5295366111964477\n",
            "Adjusted R^2: 0.5229103662837216\n",
            "MAE: 0.4832586209616666\n",
            "MSE: 0.5020740857210952\n",
            "RMSE: 0.7085718634839343\n"
          ],
          "name": "stdout"
        }
      ]
    },
    {
      "cell_type": "markdown",
      "metadata": {
        "id": "ryfjCMvf8ZEv"
      },
      "source": [
        "#KNN REGRESSOR"
      ]
    },
    {
      "cell_type": "code",
      "metadata": {
        "id": "wV3UYt3b8SGB"
      },
      "source": [
        "neigh = KNeighborsRegressor(n_neighbors=2)\n",
        "neigh.fit(X_train, y_train)\n",
        "y_pred = neigh.predict(X_test) "
      ],
      "execution_count": 516,
      "outputs": []
    },
    {
      "cell_type": "code",
      "metadata": {
        "colab": {
          "base_uri": "https://localhost:8080/"
        },
        "id": "WbKRuRTw8glF",
        "outputId": "2caed8a7-f90f-4851-bfa1-daad941ea351"
      },
      "source": [
        "acc_knn_r_s = metrics.r2_score(y_test, y_pred)\n",
        "print('R^2:', acc_knn_r_s)\n",
        "print('Adjusted R^2:',1 - (1-metrics.r2_score(y_test, y_pred))*(len(y_test)-1)/(len(y_test)-X_test.shape[1]-1))\n",
        "print('MAE:',metrics.mean_absolute_error(y_test, y_pred))\n",
        "print('MSE:',metrics.mean_squared_error(y_test, y_pred))\n",
        "print('RMSE:',np.sqrt(metrics.mean_squared_error(y_test, y_pred)))"
      ],
      "execution_count": 517,
      "outputs": [
        {
          "output_type": "stream",
          "text": [
            "R^2: 0.440588653759853\n",
            "Adjusted R^2: 0.43270962071421715\n",
            "MAE: 0.5417429851043221\n",
            "MSE: 0.5969985059194645\n",
            "RMSE: 0.7726567840376893\n"
          ],
          "name": "stdout"
        }
      ]
    },
    {
      "cell_type": "markdown",
      "metadata": {
        "id": "vIDuSb9NqC9G"
      },
      "source": [
        "#chaos!!"
      ]
    },
    {
      "cell_type": "markdown",
      "metadata": {
        "id": "I8_3-5wWySpz"
      },
      "source": [
        "#model comparision before applying standardisation"
      ]
    },
    {
      "cell_type": "code",
      "metadata": {
        "colab": {
          "base_uri": "https://localhost:8080/",
          "height": 195
        },
        "id": "3-OoQ5VIyYGJ",
        "outputId": "4d8e0b09-eea0-48a8-f8bb-ac38ccbdb2fa"
      },
      "source": [
        "models = pd.DataFrame({\n",
        "    'Model without standardisation': ['Linear Regression', 'Random Forest', 'XGBoost', 'Support Vector Machines','KNN regressor'],\n",
        "    'R-squared Score': [acc_lnr*100, acc_rf*100, acc_xg*100, acc_svm*100,acc_knn_r*100]})\n",
        "models.sort_values(by='R-squared Score', ascending=False)"
      ],
      "execution_count": 520,
      "outputs": [
        {
          "output_type": "execute_result",
          "data": {
            "text/html": [
              "<div>\n",
              "<style scoped>\n",
              "    .dataframe tbody tr th:only-of-type {\n",
              "        vertical-align: middle;\n",
              "    }\n",
              "\n",
              "    .dataframe tbody tr th {\n",
              "        vertical-align: top;\n",
              "    }\n",
              "\n",
              "    .dataframe thead th {\n",
              "        text-align: right;\n",
              "    }\n",
              "</style>\n",
              "<table border=\"1\" class=\"dataframe\">\n",
              "  <thead>\n",
              "    <tr style=\"text-align: right;\">\n",
              "      <th></th>\n",
              "      <th>Model without standardisation</th>\n",
              "      <th>R-squared Score</th>\n",
              "    </tr>\n",
              "  </thead>\n",
              "  <tbody>\n",
              "    <tr>\n",
              "      <th>2</th>\n",
              "      <td>XGBoost</td>\n",
              "      <td>51.982407</td>\n",
              "    </tr>\n",
              "    <tr>\n",
              "      <th>0</th>\n",
              "      <td>Linear Regression</td>\n",
              "      <td>50.707787</td>\n",
              "    </tr>\n",
              "    <tr>\n",
              "      <th>1</th>\n",
              "      <td>Random Forest</td>\n",
              "      <td>50.691587</td>\n",
              "    </tr>\n",
              "    <tr>\n",
              "      <th>3</th>\n",
              "      <td>Support Vector Machines</td>\n",
              "      <td>41.248630</td>\n",
              "    </tr>\n",
              "    <tr>\n",
              "      <th>4</th>\n",
              "      <td>KNN regressor</td>\n",
              "      <td>38.245522</td>\n",
              "    </tr>\n",
              "  </tbody>\n",
              "</table>\n",
              "</div>"
            ],
            "text/plain": [
              "  Model without standardisation  R-squared Score\n",
              "2                       XGBoost        51.982407\n",
              "0             Linear Regression        50.707787\n",
              "1                 Random Forest        50.691587\n",
              "3       Support Vector Machines        41.248630\n",
              "4                 KNN regressor        38.245522"
            ]
          },
          "metadata": {
            "tags": []
          },
          "execution_count": 520
        }
      ]
    },
    {
      "cell_type": "markdown",
      "metadata": {
        "id": "PFnnhl5t15DD"
      },
      "source": [
        "#Model comparision after standardisation"
      ]
    },
    {
      "cell_type": "code",
      "metadata": {
        "colab": {
          "base_uri": "https://localhost:8080/",
          "height": 195
        },
        "id": "MK8cuvT-3bpe",
        "outputId": "b9dd8dfe-ac0d-4027-fad4-977cbd48785b"
      },
      "source": [
        "models = pd.DataFrame({\n",
        "    'Model without standardisation': ['Linear Regression', 'Random Forest', 'XGBoost', 'Support Vector Machines','KNN regressor'],\n",
        "    'R-squared Score': [acc_lnr_s*100, acc_rf_s*100, acc_xg_s*100, acc_svm_s*100,acc_knn_r_s*100]})\n",
        "models.sort_values(by='R-squared Score', ascending=False)"
      ],
      "execution_count": 521,
      "outputs": [
        {
          "output_type": "execute_result",
          "data": {
            "text/html": [
              "<div>\n",
              "<style scoped>\n",
              "    .dataframe tbody tr th:only-of-type {\n",
              "        vertical-align: middle;\n",
              "    }\n",
              "\n",
              "    .dataframe tbody tr th {\n",
              "        vertical-align: top;\n",
              "    }\n",
              "\n",
              "    .dataframe thead th {\n",
              "        text-align: right;\n",
              "    }\n",
              "</style>\n",
              "<table border=\"1\" class=\"dataframe\">\n",
              "  <thead>\n",
              "    <tr style=\"text-align: right;\">\n",
              "      <th></th>\n",
              "      <th>Model without standardisation</th>\n",
              "      <th>R-squared Score</th>\n",
              "    </tr>\n",
              "  </thead>\n",
              "  <tbody>\n",
              "    <tr>\n",
              "      <th>3</th>\n",
              "      <td>Support Vector Machines</td>\n",
              "      <td>54.766681</td>\n",
              "    </tr>\n",
              "    <tr>\n",
              "      <th>2</th>\n",
              "      <td>XGBoost</td>\n",
              "      <td>52.953661</td>\n",
              "    </tr>\n",
              "    <tr>\n",
              "      <th>1</th>\n",
              "      <td>Random Forest</td>\n",
              "      <td>50.944511</td>\n",
              "    </tr>\n",
              "    <tr>\n",
              "      <th>0</th>\n",
              "      <td>Linear Regression</td>\n",
              "      <td>50.707787</td>\n",
              "    </tr>\n",
              "    <tr>\n",
              "      <th>4</th>\n",
              "      <td>KNN regressor</td>\n",
              "      <td>44.058865</td>\n",
              "    </tr>\n",
              "  </tbody>\n",
              "</table>\n",
              "</div>"
            ],
            "text/plain": [
              "  Model without standardisation  R-squared Score\n",
              "3       Support Vector Machines        54.766681\n",
              "2                       XGBoost        52.953661\n",
              "1                 Random Forest        50.944511\n",
              "0             Linear Regression        50.707787\n",
              "4                 KNN regressor        44.058865"
            ]
          },
          "metadata": {
            "tags": []
          },
          "execution_count": 521
        }
      ]
    },
    {
      "cell_type": "markdown",
      "metadata": {
        "id": "FLPoIekbqH05"
      },
      "source": [
        "#Chaos END!!"
      ]
    },
    {
      "cell_type": "markdown",
      "metadata": {
        "id": "68bYxj8hGcO9"
      },
      "source": [
        "#ARTIFICAL NEURAL NETWORK"
      ]
    },
    {
      "cell_type": "code",
      "metadata": {
        "id": "I1bIxBfuGlc-"
      },
      "source": [
        ""
      ],
      "execution_count": 521,
      "outputs": []
    },
    {
      "cell_type": "code",
      "metadata": {
        "id": "ZYA-sxxTGlZI"
      },
      "source": [
        ""
      ],
      "execution_count": 521,
      "outputs": []
    },
    {
      "cell_type": "code",
      "metadata": {
        "id": "6An1hAzmGlTM"
      },
      "source": [
        ""
      ],
      "execution_count": 521,
      "outputs": []
    },
    {
      "cell_type": "code",
      "metadata": {
        "id": "QifH3uaSGlP8"
      },
      "source": [
        ""
      ],
      "execution_count": 521,
      "outputs": []
    }
  ]
}